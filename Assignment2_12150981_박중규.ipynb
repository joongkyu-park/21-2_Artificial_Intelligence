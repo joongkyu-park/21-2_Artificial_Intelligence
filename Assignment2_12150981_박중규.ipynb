{
 "cells": [
  {
   "cell_type": "markdown",
   "id": "10234594",
   "metadata": {},
   "source": [
    "# AI_Assignment2_12150981_박중규"
   ]
  },
  {
   "cell_type": "markdown",
   "id": "5ef2e5ce",
   "metadata": {},
   "source": [
    "## Part 1"
   ]
  },
  {
   "cell_type": "markdown",
   "id": "ca51b4d2",
   "metadata": {},
   "source": [
    "### 라이브러리 import"
   ]
  },
  {
   "cell_type": "code",
   "execution_count": null,
   "id": "3026760e",
   "metadata": {},
   "outputs": [],
   "source": [
    "import numpy as np\n",
    "from tensorflow import keras\n",
    "from tensorflow.keras import layers\n",
    "import matplotlib.pyplot as plt\n",
    "%matplotlib inline"
   ]
  },
  {
   "cell_type": "markdown",
   "id": "1c0ec2a9",
   "metadata": {},
   "source": [
    "### MINIST Dataset을 통해 train 이미지와 test 이미지를 준비"
   ]
  },
  {
   "cell_type": "code",
   "execution_count": null,
   "id": "6fcc6f63",
   "metadata": {},
   "outputs": [],
   "source": [
    "# 데이터 전처리 과정\n",
    "\n",
    "# 클래스의 개수와 이미지의 모양\n",
    "num_classes = 10\n",
    "input_shape = (28, 28, 1)\n",
    "\n",
    "# train 데이터와 test 데이터\n",
    "(x_train, y_train), (x_test, y_test) = keras.datasets.mnist.load_data()\n",
    "\n",
    "# 이미지의 스케일을 [0, 1]범위로 조정\n",
    "x_train = x_train.astype(\"float32\") / 255\n",
    "x_test = x_test.astype(\"float32\") / 255\n",
    "\n",
    "# 이미지를 28x28x1 모양으로 만든다\n",
    "x_train = np.expand_dims(x_train, -1)\n",
    "x_test = np.expand_dims(x_test, -1)\n",
    "\n",
    "# convert class vectors to binary class matrices\n",
    "y_train = keras.utils.to_categorical(y_train, num_classes)\n",
    "y_test = keras.utils.to_categorical(y_test, num_classes)"
   ]
  },
  {
   "cell_type": "markdown",
   "id": "dadde8fd",
   "metadata": {},
   "source": [
    "### CNN 모델만들기"
   ]
  },
  {
   "cell_type": "code",
   "execution_count": null,
   "id": "bc948aaa",
   "metadata": {},
   "outputs": [],
   "source": [
    "# 합성곱 신경망 구성\n",
    "\n",
    "# Convolution -> ReLU -> Max Pooling -> Convolution -> ReLu -> Maxpooling\n",
    "# -> Flatten -> Dropout -> Fully Connected -> Softmax 순서의 모델\n",
    "\n",
    "# Convolutional Layer : 필터를 통해 이미지의 feature을 뽑아내는 layer\n",
    "# ReLU Layer : 활성화 함수\n",
    "# Pooling Layer : 이미지의 크기를 줄이며 특정 feature 강조\n",
    "# Dropout Layer : overfitting을 방지하기 위해 복잡도를 줄임. 이를 위해 매 epoch마다 랜덤한 노드 생략\n",
    "# Flatten Layer : 입력 데이터의 shape 변경\n",
    "# Fully Connected Layer : 프로세스의 결과를 가지고 이미지를 분류하는 과정\n",
    "# Softmax Layer : Classification 수행\n",
    "model = keras.Sequential(\n",
    "    [\n",
    "        keras.Input(shape=input_shape),\n",
    "        layers.Conv2D(32, kernel_size=(3, 3), activation=\"relu\"),\n",
    "        layers.MaxPooling2D(pool_size=(2, 2)),\n",
    "        layers.Conv2D(64, kernel_size=(3, 3), activation=\"relu\"),\n",
    "        layers.MaxPooling2D(pool_size=(2, 2)),\n",
    "        layers.Flatten(),\n",
    "        layers.Dropout(0.5),\n",
    "        layers.Dense(num_classes, activation=\"softmax\"),\n",
    "    ]\n",
    ")\n",
    "# 모델 Layer와 파라메터에 관한 요약설명\n",
    "model.summary()"
   ]
  },
  {
   "cell_type": "markdown",
   "id": "647b27d7",
   "metadata": {},
   "source": [
    "### 모델의 인자를 설정 후 학습시키기"
   ]
  },
  {
   "cell_type": "code",
   "execution_count": null,
   "id": "eb3c5d12",
   "metadata": {},
   "outputs": [
    {
     "name": "stdout",
     "output_type": "stream",
     "text": [
      "Epoch 1/15\n",
      "143/422 [=========>....................] - ETA: 8s - loss: 0.7548 - accuracy: 0.7650"
     ]
    }
   ],
   "source": [
    "# batch_size : 한 번의 bathc마다 주는 데이터의 size\n",
    "# epochs : epcoh은 전체 데이터 셋에 대해 순전파/역전파를 거치는 과정을 말하는데, 그 과정의 횟수를 의미\n",
    "batch_size = 128\n",
    "epochs = 15\n",
    "\n",
    "# loss: 손실함수의 설정. 모델 최적화에 사용하는 목적 함수\n",
    "# optimizer : 정규화기. 최적화 알고리즘을 설정\n",
    "# metric : 평가지표. classfication에서는 accuracy 사용\n",
    "model.compile(loss=\"categorical_crossentropy\", \n",
    "              optimizer=\"adam\", \n",
    "              metrics=[\"accuracy\"])\n",
    "\n",
    "# 지정했던 인자들을 넣어서 모델 학습시키기\n",
    "# validation_split : train 데이터 셋의 일부 비율을 학습 중 평가에 사용되는 검증 데이터로 활용\n",
    "history = model.fit(x_train, y_train, \n",
    "                    batch_size=batch_size, \n",
    "                    epochs=epochs, \n",
    "                    validation_split=0.1)"
   ]
  },
  {
   "cell_type": "markdown",
   "id": "414dcd65",
   "metadata": {},
   "source": [
    "### 학습의 정확도 출력"
   ]
  },
  {
   "cell_type": "code",
   "execution_count": null,
   "id": "f5c193e3",
   "metadata": {},
   "outputs": [],
   "source": [
    "# train 데이터와 validation 데이터에 대해 accuracy와 loss 그래프를 출력\n",
    "\n",
    "# 모델에서 각 값 가져오기\n",
    "train_accuracy = history.history['accuracy']\n",
    "val_accuracy = history.history['val_accuracy']\n",
    "train_loss = history.history['loss']\n",
    "val_loss = history.history['val_loss']\n",
    "\n",
    "# train 데이터와 validation 데이터에 대한 accuracy값\n",
    "plt.plot(list(range(epochs)), train_accuracy, 'bo', label='Training accuracy')\n",
    "plt.plot(list(range(epochs)), val_accuracy, 'b', label='Validation accuracy')\n",
    "plt.title('Training and validation accuracy')\n",
    "plt.legend()\n",
    "plt.show()\n",
    "\n",
    "# train 데이터와 validation 데이터에 대한 loss값\n",
    "plt.figure()\n",
    "plt.plot(list(range(epochs)), train_loss, 'bo', label='Training loss')\n",
    "plt.plot(list(range(epochs)), val_loss, 'b', label='Validation loss')\n",
    "plt.title('Training and validation loss')\n",
    "plt.legend()\n",
    "plt.show()"
   ]
  },
  {
   "cell_type": "markdown",
   "id": "cd3bb38e",
   "metadata": {},
   "source": [
    "### Test 데이터 셋에 대한 평가"
   ]
  },
  {
   "cell_type": "code",
   "execution_count": 10,
   "id": "3748556c",
   "metadata": {},
   "outputs": [
    {
     "name": "stdout",
     "output_type": "stream",
     "text": [
      "Test loss of model: 0.023732811212539673\n",
      "Test accuracy of model: 0.9918000102043152\n"
     ]
    }
   ],
   "source": [
    "# 모델에 test 데이터 셋을 넣고 accuracy와 loss 계산\n",
    "score = model.evaluate(x_test, y_test, verbose=0)\n",
    "print(\"Test loss of model:\", score[0])\n",
    "print(\"Test accuracy of model:\", score[1])"
   ]
  },
  {
   "cell_type": "markdown",
   "id": "060f8d7f",
   "metadata": {},
   "source": [
    "## Part 2"
   ]
  },
  {
   "cell_type": "markdown",
   "id": "04b51045",
   "metadata": {},
   "source": [
    "### 1. Implement with different CNN architecture"
   ]
  },
  {
   "cell_type": "code",
   "execution_count": 16,
   "id": "df4a94ed",
   "metadata": {},
   "outputs": [
    {
     "name": "stdout",
     "output_type": "stream",
     "text": [
      "Model: \"sequential_4\"\n",
      "_________________________________________________________________\n",
      " Layer (type)                Output Shape              Param #   \n",
      "=================================================================\n",
      " conv2d_9 (Conv2D)           (None, 26, 26, 32)        320       \n",
      "                                                                 \n",
      " max_pooling2d_9 (MaxPooling  (None, 13, 13, 32)       0         \n",
      " 2D)                                                             \n",
      "                                                                 \n",
      " conv2d_10 (Conv2D)          (None, 11, 11, 64)        18496     \n",
      "                                                                 \n",
      " max_pooling2d_10 (MaxPoolin  (None, 5, 5, 64)         0         \n",
      " g2D)                                                            \n",
      "                                                                 \n",
      " conv2d_11 (Conv2D)          (None, 3, 3, 64)          36928     \n",
      "                                                                 \n",
      " max_pooling2d_11 (MaxPoolin  (None, 1, 1, 64)         0         \n",
      " g2D)                                                            \n",
      "                                                                 \n",
      " flatten_4 (Flatten)         (None, 64)                0         \n",
      "                                                                 \n",
      " dropout_4 (Dropout)         (None, 64)                0         \n",
      "                                                                 \n",
      " dense_4 (Dense)             (None, 10)                650       \n",
      "                                                                 \n",
      "=================================================================\n",
      "Total params: 56,394\n",
      "Trainable params: 56,394\n",
      "Non-trainable params: 0\n",
      "_________________________________________________________________\n"
     ]
    }
   ],
   "source": [
    "# Convolutional Layer와 Pooling Layer를 추가하여 다른 CNN 구조 생성\n",
    "\n",
    "model2 = keras.Sequential(\n",
    "    [\n",
    "        keras.Input(shape=input_shape),\n",
    "        layers.Conv2D(32, kernel_size=(3, 3), activation=\"relu\"),\n",
    "        layers.MaxPooling2D(pool_size=(2, 2)),\n",
    "        layers.Conv2D(64, kernel_size=(3, 3), activation=\"relu\"),\n",
    "        layers.MaxPooling2D(pool_size=(2, 2)),\n",
    "        layers.Conv2D(64, kernel_size=(3, 3), activation=\"relu\"),\n",
    "        layers.MaxPooling2D(pool_size=(2, 2)),\n",
    "        layers.Flatten(),\n",
    "        layers.Dropout(0.5),\n",
    "        layers.Dense(num_classes, activation=\"softmax\"),\n",
    "    ]\n",
    ")\n",
    "\n",
    "model2.summary()"
   ]
  },
  {
   "cell_type": "code",
   "execution_count": 12,
   "id": "488cf01c",
   "metadata": {},
   "outputs": [
    {
     "name": "stdout",
     "output_type": "stream",
     "text": [
      "Epoch 1/15\n",
      "422/422 [==============================] - 16s 38ms/step - loss: 0.6034 - accuracy: 0.8105 - val_loss: 0.1260 - val_accuracy: 0.9668\n",
      "Epoch 2/15\n",
      "422/422 [==============================] - 17s 39ms/step - loss: 0.2388 - accuracy: 0.9289 - val_loss: 0.0876 - val_accuracy: 0.9753\n",
      "Epoch 3/15\n",
      "422/422 [==============================] - 16s 39ms/step - loss: 0.1900 - accuracy: 0.9455 - val_loss: 0.0742 - val_accuracy: 0.9802\n",
      "Epoch 4/15\n",
      "422/422 [==============================] - 16s 39ms/step - loss: 0.1614 - accuracy: 0.9523 - val_loss: 0.0642 - val_accuracy: 0.9813\n",
      "Epoch 5/15\n",
      "422/422 [==============================] - 17s 39ms/step - loss: 0.1422 - accuracy: 0.9591 - val_loss: 0.0604 - val_accuracy: 0.9838\n",
      "Epoch 6/15\n",
      "422/422 [==============================] - 16s 39ms/step - loss: 0.1239 - accuracy: 0.9632 - val_loss: 0.0573 - val_accuracy: 0.9843\n",
      "Epoch 7/15\n",
      "422/422 [==============================] - 16s 38ms/step - loss: 0.1183 - accuracy: 0.9655 - val_loss: 0.0562 - val_accuracy: 0.9832\n",
      "Epoch 8/15\n",
      "422/422 [==============================] - 16s 38ms/step - loss: 0.1111 - accuracy: 0.9677 - val_loss: 0.0511 - val_accuracy: 0.9848\n",
      "Epoch 9/15\n",
      "422/422 [==============================] - 16s 38ms/step - loss: 0.0968 - accuracy: 0.9705 - val_loss: 0.0505 - val_accuracy: 0.9863\n",
      "Epoch 10/15\n",
      "422/422 [==============================] - 17s 40ms/step - loss: 0.0953 - accuracy: 0.9714 - val_loss: 0.0534 - val_accuracy: 0.9853\n",
      "Epoch 11/15\n",
      "422/422 [==============================] - 16s 39ms/step - loss: 0.0861 - accuracy: 0.9741 - val_loss: 0.0457 - val_accuracy: 0.9873\n",
      "Epoch 12/15\n",
      "422/422 [==============================] - 17s 40ms/step - loss: 0.0807 - accuracy: 0.9762 - val_loss: 0.0476 - val_accuracy: 0.9878\n",
      "Epoch 13/15\n",
      "422/422 [==============================] - 20s 48ms/step - loss: 0.0785 - accuracy: 0.9766 - val_loss: 0.0538 - val_accuracy: 0.9870\n",
      "Epoch 14/15\n",
      "422/422 [==============================] - 20s 47ms/step - loss: 0.0742 - accuracy: 0.9782 - val_loss: 0.0485 - val_accuracy: 0.9880\n",
      "Epoch 15/15\n",
      "422/422 [==============================] - 20s 47ms/step - loss: 0.0724 - accuracy: 0.9780 - val_loss: 0.0460 - val_accuracy: 0.9878\n"
     ]
    }
   ],
   "source": [
    "model2.compile(loss=\"categorical_crossentropy\", \n",
    "              optimizer=\"adam\", \n",
    "              metrics=[\"accuracy\"])\n",
    "\n",
    "history2 = model2.fit(x_train, y_train, \n",
    "                    batch_size=batch_size, \n",
    "                    epochs=epochs, \n",
    "                    validation_split=0.1)"
   ]
  },
  {
   "cell_type": "code",
   "execution_count": 13,
   "id": "3dedf39c",
   "metadata": {},
   "outputs": [
    {
     "name": "stdout",
     "output_type": "stream",
     "text": [
      "Test loss of model2: 0.0520080141723156\n",
      "Test accuracy of model2: 0.9860000014305115\n"
     ]
    }
   ],
   "source": [
    "score2 = model2.evaluate(x_test, y_test, verbose=0)\n",
    "print(\"Test loss of model2:\", score2[0])\n",
    "print(\"Test accuracy of model2:\", score2[1])"
   ]
  },
  {
   "cell_type": "markdown",
   "id": "8f0af684",
   "metadata": {},
   "source": [
    "### 2. Implement with different training parameters"
   ]
  },
  {
   "cell_type": "code",
   "execution_count": 14,
   "id": "216e60fd",
   "metadata": {},
   "outputs": [
    {
     "name": "stdout",
     "output_type": "stream",
     "text": [
      "Epoch 1/30\n",
      "422/422 [==============================] - 16s 37ms/step - loss: 0.3630 - accuracy: 0.8888 - val_loss: 0.0920 - val_accuracy: 0.9748\n",
      "Epoch 2/30\n",
      "422/422 [==============================] - 15s 35ms/step - loss: 0.1175 - accuracy: 0.9648 - val_loss: 0.0639 - val_accuracy: 0.9813\n",
      "Epoch 3/30\n",
      "422/422 [==============================] - 16s 38ms/step - loss: 0.0876 - accuracy: 0.9735 - val_loss: 0.0545 - val_accuracy: 0.9848\n",
      "Epoch 4/30\n",
      "422/422 [==============================] - 16s 37ms/step - loss: 0.0750 - accuracy: 0.9769 - val_loss: 0.0483 - val_accuracy: 0.9862\n",
      "Epoch 5/30\n",
      "422/422 [==============================] - 18s 42ms/step - loss: 0.0644 - accuracy: 0.9800 - val_loss: 0.0457 - val_accuracy: 0.9868\n",
      "Epoch 6/30\n",
      "422/422 [==============================] - 19s 45ms/step - loss: 0.0589 - accuracy: 0.9811 - val_loss: 0.0377 - val_accuracy: 0.9893\n",
      "Epoch 7/30\n",
      "422/422 [==============================] - 21s 49ms/step - loss: 0.0544 - accuracy: 0.9825 - val_loss: 0.0358 - val_accuracy: 0.9908\n",
      "Epoch 8/30\n",
      "422/422 [==============================] - 20s 47ms/step - loss: 0.0492 - accuracy: 0.9842 - val_loss: 0.0313 - val_accuracy: 0.9915\n",
      "Epoch 9/30\n",
      "422/422 [==============================] - 20s 47ms/step - loss: 0.0471 - accuracy: 0.9848 - val_loss: 0.0340 - val_accuracy: 0.9917\n",
      "Epoch 10/30\n",
      "422/422 [==============================] - 19s 45ms/step - loss: 0.0420 - accuracy: 0.9863 - val_loss: 0.0335 - val_accuracy: 0.9920\n",
      "Epoch 11/30\n",
      "422/422 [==============================] - 14s 34ms/step - loss: 0.0414 - accuracy: 0.9862 - val_loss: 0.0316 - val_accuracy: 0.9915\n",
      "Epoch 12/30\n",
      "422/422 [==============================] - 14s 34ms/step - loss: 0.0402 - accuracy: 0.9871 - val_loss: 0.0301 - val_accuracy: 0.9918\n",
      "Epoch 13/30\n",
      "422/422 [==============================] - 14s 34ms/step - loss: 0.0367 - accuracy: 0.9886 - val_loss: 0.0324 - val_accuracy: 0.9918\n",
      "Epoch 14/30\n",
      "422/422 [==============================] - 14s 34ms/step - loss: 0.0336 - accuracy: 0.9890 - val_loss: 0.0289 - val_accuracy: 0.9923\n",
      "Epoch 15/30\n",
      "422/422 [==============================] - 15s 35ms/step - loss: 0.0346 - accuracy: 0.9887 - val_loss: 0.0303 - val_accuracy: 0.9913\n",
      "Epoch 16/30\n",
      "422/422 [==============================] - 14s 34ms/step - loss: 0.0334 - accuracy: 0.9893 - val_loss: 0.0294 - val_accuracy: 0.9925\n",
      "Epoch 17/30\n",
      "422/422 [==============================] - 15s 35ms/step - loss: 0.0307 - accuracy: 0.9902 - val_loss: 0.0318 - val_accuracy: 0.9920\n",
      "Epoch 18/30\n",
      "422/422 [==============================] - 18s 42ms/step - loss: 0.0299 - accuracy: 0.9901 - val_loss: 0.0282 - val_accuracy: 0.9918\n",
      "Epoch 19/30\n",
      "422/422 [==============================] - 21s 49ms/step - loss: 0.0292 - accuracy: 0.9906 - val_loss: 0.0282 - val_accuracy: 0.9922\n",
      "Epoch 20/30\n",
      "422/422 [==============================] - 20s 47ms/step - loss: 0.0282 - accuracy: 0.9904 - val_loss: 0.0281 - val_accuracy: 0.9922\n",
      "Epoch 21/30\n",
      "422/422 [==============================] - 20s 46ms/step - loss: 0.0277 - accuracy: 0.9909 - val_loss: 0.0286 - val_accuracy: 0.9910\n",
      "Epoch 22/30\n",
      "422/422 [==============================] - 20s 48ms/step - loss: 0.0275 - accuracy: 0.9907 - val_loss: 0.0286 - val_accuracy: 0.9912\n",
      "Epoch 23/30\n",
      "422/422 [==============================] - 20s 48ms/step - loss: 0.0263 - accuracy: 0.9911 - val_loss: 0.0321 - val_accuracy: 0.9917\n",
      "Epoch 24/30\n",
      "422/422 [==============================] - 20s 47ms/step - loss: 0.0248 - accuracy: 0.9919 - val_loss: 0.0283 - val_accuracy: 0.9920\n",
      "Epoch 25/30\n",
      "422/422 [==============================] - 20s 49ms/step - loss: 0.0261 - accuracy: 0.9914 - val_loss: 0.0276 - val_accuracy: 0.9922\n",
      "Epoch 26/30\n",
      "422/422 [==============================] - 21s 49ms/step - loss: 0.0241 - accuracy: 0.9920 - val_loss: 0.0287 - val_accuracy: 0.9922\n",
      "Epoch 27/30\n",
      "422/422 [==============================] - 20s 47ms/step - loss: 0.0229 - accuracy: 0.9925 - val_loss: 0.0328 - val_accuracy: 0.9915\n",
      "Epoch 28/30\n",
      "422/422 [==============================] - 20s 48ms/step - loss: 0.0220 - accuracy: 0.9924 - val_loss: 0.0317 - val_accuracy: 0.9923\n",
      "Epoch 29/30\n",
      "422/422 [==============================] - 19s 46ms/step - loss: 0.0233 - accuracy: 0.9919 - val_loss: 0.0263 - val_accuracy: 0.9930\n",
      "Epoch 30/30\n",
      "422/422 [==============================] - 17s 41ms/step - loss: 0.0206 - accuracy: 0.9930 - val_loss: 0.0273 - val_accuracy: 0.9935\n"
     ]
    }
   ],
   "source": [
    "# epochs의 값을 2배로 늘려서 모델을 학습시켜 보기\n",
    "\n",
    "model3 = keras.Sequential(\n",
    "    [\n",
    "        keras.Input(shape=input_shape),\n",
    "        layers.Conv2D(32, kernel_size=(3, 3), activation=\"relu\"),\n",
    "        layers.MaxPooling2D(pool_size=(2, 2)),\n",
    "        layers.Conv2D(64, kernel_size=(3, 3), activation=\"relu\"),\n",
    "        layers.MaxPooling2D(pool_size=(2, 2)),\n",
    "        layers.Flatten(),\n",
    "        layers.Dropout(0.5),\n",
    "        layers.Dense(num_classes, activation=\"softmax\"),\n",
    "    ]\n",
    ")\n",
    "\n",
    "batch_size = 128\n",
    "epochs_30 = 30\n",
    "\n",
    "model3.compile(loss=\"categorical_crossentropy\", \n",
    "              optimizer=\"adam\", \n",
    "              metrics=[\"accuracy\"])\n",
    "\n",
    "history3 = model3.fit(x_train, y_train, \n",
    "                    batch_size=batch_size, \n",
    "                    epochs=epochs_30, \n",
    "                    validation_split=0.1)"
   ]
  },
  {
   "cell_type": "code",
   "execution_count": 15,
   "id": "d3c2b94b",
   "metadata": {},
   "outputs": [
    {
     "name": "stdout",
     "output_type": "stream",
     "text": [
      "Test loss of model3: 0.021890977397561073\n",
      "Test accuracy of model3: 0.9932000041007996\n"
     ]
    }
   ],
   "source": [
    "score3 = model3.evaluate(x_test, y_test, verbose=0)\n",
    "print(\"Test loss of model3:\", score3[0])\n",
    "print(\"Test accuracy of model3:\", score3[1])"
   ]
  },
  {
   "cell_type": "markdown",
   "id": "803bcabe",
   "metadata": {},
   "source": [
    "### Short summary of what I have learned and my observation\n",
    "\n",
    "+ MNIST data set과 tensorflow의 keras를 이용하여 직접 CNN모델을 구축해보고 데이터를 학습시켜 데이터를 분류하는 경험을 할 수 있었습니다.\n",
    "+ 코드를 직접 작성하고 분석해봄으로써 전반적인 모델구축 과정, 데이터학습 과정을 알 수 있었고 라이브러리의 프로퍼티나 메소드를 이해하는데 도움이 되었습니다.\n",
    "+ CNN architecture가 어떻게 구성되는지 알 수 있었고 각 Layer가 어떤 역할을 수행하는지 알 수 있었습니다.\n",
    "+ model1(기본 모델), model2(Layer를 추가하여 구조를 다르게한 모델), model3(epochs를 2배로 증가하여 학습)을 여러번 데이터 학습을 시키고 평가한 결과 다음과 같은 관찰을 할 수 있었습니다.\n",
    "\n",
    "> 1) Layer를 추가하여 total parameters의 수가 증가한다고 해도 정확성이 증가하는 것은 아님을 알았습니다. model2에서는 여러번 시행해본 결과, 오히려 정확성이 더 떨어지는 모습을 보였습니다. \n",
    "\n",
    "> 2) epochs를 2배로 늘려 여러번 시행해본 결과, 조금의 정확성이 증가하는 모습을 보였습니다. 그러나 학습시간이 2배로 증가하는 측면을 고려한다면, 효율성의 문제는 별개로 생각해볼 수 있습니다. 학습시간은 줄이면서 정확성을 더 높인다면 더 효율적이고 성능좋은 모델을 만들 수 있을 것입니다."
   ]
  }
 ],
 "metadata": {
  "kernelspec": {
   "display_name": "Python 3 (ipykernel)",
   "language": "python",
   "name": "python3"
  },
  "language_info": {
   "codemirror_mode": {
    "name": "ipython",
    "version": 3
   },
   "file_extension": ".py",
   "mimetype": "text/x-python",
   "name": "python",
   "nbconvert_exporter": "python",
   "pygments_lexer": "ipython3",
   "version": "3.9.9"
  }
 },
 "nbformat": 4,
 "nbformat_minor": 5
}
